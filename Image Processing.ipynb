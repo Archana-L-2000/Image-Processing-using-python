{
 "cells": [
  {
   "cell_type": "markdown",
   "metadata": {},
   "source": [
    "# Image flipping"
   ]
  },
  {
   "cell_type": "code",
   "execution_count": null,
   "metadata": {},
   "outputs": [],
   "source": [
    "from PIL import Image\n",
    "img=Image.open(r\"your file location\")#eg:c:\\foldername\\filename\n",
    "transposed_img=img.transpose(Image.FLIP_LEFT_RIGHT)\n",
    "p=transposed_img.save(r\"C:\\Users\\hp\\Pictures\\corrected.png\")\n",
    "print(\"done\")\n",
    "\n",
    "\n"
   ]
  },
  {
   "cell_type": "markdown",
   "metadata": {},
   "source": [
    "# Image Enhancing "
   ]
  },
  {
   "cell_type": "code",
   "execution_count": null,
   "metadata": {},
   "outputs": [],
   "source": [
    "import cv2\n",
    "img=cv2.imread(r\"your file location\")#eg:c:\\foldername\\filename\n",
    "clahe=cv2.createCLAHE()\n",
    "gray_img=cv2.cvtColor(img,cv2.COLOR_BGR2GRAY)\n",
    "enh_img=clahe.apply(gray_img)\n",
    "cv2.imwrite(r\"C:\\Users\\hp\\Pictures\\enhanced.png\",enh_img)\n",
    "print(\"done enhancing\")\n",
    "\n"
   ]
  }
 ],
 "metadata": {
  "kernelspec": {
   "display_name": "Python 3",
   "language": "python",
   "name": "python3"
  },
  "language_info": {
   "codemirror_mode": {
    "name": "ipython",
    "version": 3
   },
   "file_extension": ".py",
   "mimetype": "text/x-python",
   "name": "python",
   "nbconvert_exporter": "python",
   "pygments_lexer": "ipython3",
   "version": "3.8.3"
  }
 },
 "nbformat": 4,
 "nbformat_minor": 4
}
